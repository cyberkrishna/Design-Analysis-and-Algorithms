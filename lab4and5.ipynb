{
 "cells": [
  {
   "cell_type": "code",
   "execution_count": 1,
   "metadata": {},
   "outputs": [
    {
     "name": "stdout",
     "output_type": "stream",
     "text": [
      "Selected items in the knapsack:\n",
      "Name: Item1 | Weight: 10 | Benefit: 60\n",
      "Name: Item2 | Weight: 20 | Benefit: 100\n",
      "Name: Item3 | Weight: 20 | Benefit: 80.0\n",
      "Total benefit obtained: 240.0\n"
     ]
    }
   ],
   "source": [
    "def fractional_knapsack(items, capacity):\n",
    "    # Compute benefit-to-weight ratio for each item\n",
    "    for item in items:\n",
    "        item['ratio'] = item['benefit'] / item['weight']\n",
    "    \n",
    "    # Sort items based on ratio in decreasing order\n",
    "    items.sort(key=lambda x: x['ratio'], reverse=True)\n",
    "    \n",
    "    total_benefit = 0\n",
    "    sack = []\n",
    "\n",
    "    for item in items:\n",
    "        if capacity >= item['weight']:\n",
    "            # Add entire item to the sack\n",
    "            sack.append(item)\n",
    "            total_benefit += item['benefit']\n",
    "            capacity -= item['weight']\n",
    "        else:\n",
    "            # Take fraction of item\n",
    "            fraction = capacity / item['weight']\n",
    "            sack.append({'name': item['name'], 'weight': capacity, 'benefit': item['benefit'] * fraction})\n",
    "            total_benefit += item['benefit'] * fraction\n",
    "            break\n",
    "\n",
    "    return sack, total_benefit\n",
    "\n",
    "# Example usage\n",
    "items = [\n",
    "    {'name': 'Item1', 'weight': 10, 'benefit': 60},\n",
    "    {'name': 'Item2', 'weight': 20, 'benefit': 100},\n",
    "    {'name': 'Item3', 'weight': 30, 'benefit': 120}\n",
    "]\n",
    "capacity = 50\n",
    "\n",
    "sack, total_benefit = fractional_knapsack(items, capacity)\n",
    "\n",
    "print(\"Selected items in the knapsack:\")\n",
    "for item in sack:\n",
    "    print(\"Name:\", item['name'], \"| Weight:\", item['weight'], \"| Benefit:\", item['benefit'])\n",
    "\n",
    "print(\"Total benefit obtained:\", total_benefit)\n"
   ]
  },
  {
   "cell_type": "code",
   "execution_count": 9,
   "metadata": {},
   "outputs": [
    {
     "name": "stdout",
     "output_type": "stream",
     "text": [
      "Maximum subarray sum: 20\n"
     ]
    }
   ],
   "source": [
    "def max_crossing_sum(arr, low, mid, high):\n",
    "    left_sum = float('-inf')\n",
    "    max_left = 0\n",
    "    for i in range(mid, low - 1, -1):\n",
    "        max_left += arr[i]\n",
    "        left_sum = max(left_sum, max_left)\n",
    "\n",
    "    right_sum = float('-inf')\n",
    "    max_right = 0\n",
    "    for i in range(mid + 1, high + 1):\n",
    "        max_right += arr[i]\n",
    "        right_sum = max(right_sum, max_right)\n",
    "\n",
    "    return left_sum + right_sum\n",
    "\n",
    "def max_subarray_sum_divide_conquer(arr, low, high):\n",
    "    if low == high:\n",
    "        return arr[low]\n",
    "\n",
    "    mid = (low + high) // 2\n",
    "\n",
    "    return max(\n",
    "        max_subarray_sum_divide_conquer(arr, low, mid),\n",
    "        max_subarray_sum_divide_conquer(arr, mid + 1, high),\n",
    "        max_crossing_sum(arr, low, mid, high)\n",
    "    )\n",
    "\n",
    "# Example usage\n",
    "arr = [12, -5, 13, -4, 0]\n",
    "max_sum = max_subarray_sum_divide_conquer(arr, 0, len(arr) - 1)\n",
    "print(\"Maximum subarray sum:\", max_sum)\n"
   ]
  },
  {
   "cell_type": "code",
   "execution_count": 10,
   "metadata": {},
   "outputs": [
    {
     "name": "stdout",
     "output_type": "stream",
     "text": [
      "Maximum sum: 40\n"
     ]
    }
   ],
   "source": [
    "def maximize_sum_greedy(arr):\n",
    "    arr.sort()  # Sort the array in non-decreasing order\n",
    "    max_sum = 0\n",
    "    for i, num in enumerate(arr):\n",
    "        max_sum += num * i\n",
    "    return max_sum\n",
    "\n",
    "# Example usage\n",
    "arr = [2, 5, 3, 4, 0]\n",
    "max_sum = maximize_sum_greedy(arr)\n",
    "print(\"Maximum sum:\", max_sum)\n"
   ]
  },
  {
   "cell_type": "code",
   "execution_count": 11,
   "metadata": {},
   "outputs": [
    {
     "name": "stdout",
     "output_type": "stream",
     "text": [
      "Minimum sum of products: 104\n"
     ]
    }
   ],
   "source": [
    "def minimize_sum_of_products(array_one, array_two):\n",
    "    # Sort both arrays\n",
    "    array_one.sort()\n",
    "    array_two.sort(reverse=True)  # Sort array_two in non-increasing order\n",
    "\n",
    "    # Calculate the sum of products\n",
    "    min_sum = sum(a * b for a, b in zip(array_one, array_two))\n",
    "    \n",
    "    return min_sum\n",
    "\n",
    "# Example usage\n",
    "array_one = [7, 5, 1, 4]\n",
    "array_two = [6, 17, 9, 3]\n",
    "min_sum = minimize_sum_of_products(array_one, array_two)\n",
    "print(\"Minimum sum of products:\", min_sum)\n"
   ]
  },
  {
   "cell_type": "code",
   "execution_count": 30,
   "metadata": {},
   "outputs": [
    {
     "name": "stdout",
     "output_type": "stream",
     "text": [
      "Maximum value: 305\n",
      "Selected items: [4, 3, 0]\n"
     ]
    }
   ],
   "source": [
    "def knapsack(values, weights, capacity):\n",
    "    n = len(values)\n",
    "    # Initialize a table to store the maximum value for each capacity and each item index\n",
    "    dp = [[0] * (capacity + 1) for _ in range(n + 1)]\n",
    "\n",
    "    # Build up the dp table\n",
    "    for i in range(1, n + 1):\n",
    "        for j in range(1, capacity + 1):\n",
    "            if weights[i - 1] <= j:\n",
    "                dp[i][j] = max(dp[i - 1][j], dp[i - 1][j - weights[i - 1]] + values[i - 1])\n",
    "            else:\n",
    "                dp[i][j] = dp[i - 1][j]\n",
    "\n",
    "    # Backtrack to find the selected items\n",
    "    selected_items = []\n",
    "    w = capacity\n",
    "    for i in range(n, 0, -1):\n",
    "        if dp[i][w] != dp[i - 1][w]:\n",
    "            selected_items.append(i - 1)\n",
    "            w -= weights[i - 1]\n",
    "\n",
    "    return dp[n][capacity], selected_items\n",
    "\n",
    "# Example usage\n",
    "values = [200, 100, 120,47,58]\n",
    "weights = [40, 20, 30,10,15]\n",
    "capacity = 65\n",
    "\n",
    "max_value, selected_items = knapsack(values, weights, capacity)\n",
    "print(\"Maximum value:\", max_value)\n",
    "print(\"Selected items:\", selected_items)\n"
   ]
  },
  {
   "cell_type": "code",
   "execution_count": null,
   "metadata": {},
   "outputs": [],
   "source": [
    "def candies(n, arr):\n",
    "    # Initialize an array to store the number of candies for each child\n",
    "    candies = [1] * n\n",
    "    \n",
    "    # Iterate from left to right\n",
    "    for i in range(1, n):\n",
    "        if arr[i] > arr[i - 1]:\n",
    "            candies[i] = candies[i - 1] + 1\n",
    "    \n",
    "    # Iterate from right to left\n",
    "    for i in range(n - 2, -1, -1):\n",
    "        if arr[i] > arr[i + 1]:\n",
    "            candies[i] = max(candies[i], candies[i + 1] + 1)\n",
    "    \n",
    "    # Return the total number of candies needed\n",
    "    return sum(candies)\n",
    "\n",
    "# Example usage\n",
    "n = 6\n",
    "arr = [4, 6, 4, 5, 6, 2]\n",
    "result = candies(n, arr)\n",
    "print(\"Minimum number of candies:\", result)\n"
   ]
  },
  {
   "cell_type": "markdown",
   "metadata": {},
   "source": [
    "Lab 5 from here"
   ]
  },
  {
   "cell_type": "code",
   "execution_count": null,
   "metadata": {},
   "outputs": [],
   "source": [
    "def maximumPeople(p, x, y, r):\n",
    "    n = len(p)  # Number of towns\n",
    "    m = len(y)  # Number of clouds\n",
    "\n",
    "    max_people = sum(p)  # Initialize the maximum number of people in sunny towns\n",
    "\n",
    "    for i in range(m):\n",
    "        cloud_people = 0  # Initialize the number of people in darkness after removing this cloud\n",
    "        for j in range(n):\n",
    "            # Check if the town is covered by the cloud\n",
    "            if y[i] - r[i] <= x[j] <= y[i] + r[i]:\n",
    "                cloud_people += p[j]\n",
    "\n",
    "        # Update the maximum number of people in sunny towns\n",
    "        max_people = max(max_people, sum(p) - cloud_people)\n",
    "\n",
    "    return max_people\n",
    "\n",
    "# Example usage\n",
    "p = [10, 100]\n",
    "x = [5, 100]\n",
    "y = [4]\n",
    "r = [1]\n",
    "result = maximumPeople(p, x, y, r)\n",
    "print(\"Maximum number of people in sunny towns:\", result)\n"
   ]
  },
  {
   "cell_type": "code",
   "execution_count": 1,
   "metadata": {},
   "outputs": [
    {
     "name": "stdout",
     "output_type": "stream",
     "text": [
      "Minimum number of plants required: -1\n"
     ]
    }
   ],
   "source": [
    "def pylons(k, arr):\n",
    "    n = len(arr)\n",
    "    power_plants = 0\n",
    "    i = 0\n",
    "\n",
    "    while i < n:\n",
    "        # Find the farthest city within the range of the current power plant\n",
    "        j = min(i + k - 1, n - 1)\n",
    "        while j >= max(0, i - k + 1) and arr[j] == 0:\n",
    "            j -= 1\n",
    "\n",
    "        # If no city can be covered by the current power plant, return -1\n",
    "        if j < max(0, i - k + 1):\n",
    "            return -1\n",
    "\n",
    "        # Place a power plant at the farthest city within the range\n",
    "        power_plants += 1\n",
    "        i = j + k\n",
    "\n",
    "    return power_plants\n",
    "\n",
    "# Example usage\n",
    "k = 2\n",
    "arr = [ 0, 0, 1, 0, 0,1]\n",
    "result = pylons(k, arr)\n",
    "print(\"Minimum number of plants required:\", result)\n"
   ]
  },
  {
   "cell_type": "code",
   "execution_count": 26,
   "metadata": {},
   "outputs": [
    {
     "name": "stdout",
     "output_type": "stream",
     "text": [
      "Minimum number of plants required: -1\n"
     ]
    }
   ],
   "source": [
    "def pylons(k, arr):\n",
    "    n = len(arr)\n",
    "    power_plants = 0\n",
    "    i = 0\n",
    "\n",
    "    while i < n:\n",
    "        # Find the rightmost city that can be covered by the current power plant\n",
    "        j = min(i + k - 1, n - 1)\n",
    "        while j >= i and arr[j] == 0:\n",
    "            j -= 1\n",
    "\n",
    "        # If no city can be covered by the current power plant, return -1\n",
    "        if j < i:\n",
    "            return -1\n",
    "\n",
    "        # Place a power plant at the rightmost covered city\n",
    "        power_plants += 1\n",
    "        i = j + k  # Move to the next city that is not covered by the current power plant\n",
    "\n",
    "    return power_plants\n",
    "\n",
    "# Example usage\n",
    "k = 3\n",
    "arr = [1, 1, 1, 1, 1, 0]\n",
    "result = pylons(k, arr)\n",
    "print(\"Minimum number of plants required:\", result)\n"
   ]
  }
 ],
 "metadata": {
  "kernelspec": {
   "display_name": "Python 3",
   "language": "python",
   "name": "python3"
  },
  "language_info": {
   "codemirror_mode": {
    "name": "ipython",
    "version": 3
   },
   "file_extension": ".py",
   "mimetype": "text/x-python",
   "name": "python",
   "nbconvert_exporter": "python",
   "pygments_lexer": "ipython3",
   "version": "3.11.9"
  }
 },
 "nbformat": 4,
 "nbformat_minor": 2
}
